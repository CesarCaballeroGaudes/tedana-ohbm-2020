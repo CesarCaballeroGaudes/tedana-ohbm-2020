{
 "cells": [
  {
   "cell_type": "markdown",
   "metadata": {},
   "source": [
    "# Process five-echo flashing checkerboard dataset for software demo"
   ]
  },
  {
   "cell_type": "code",
   "execution_count": 1,
   "metadata": {},
   "outputs": [],
   "source": [
    "%matplotlib inline\n",
    "import os\n",
    "import os.path as op\n",
    "from glob import glob\n",
    "\n",
    "from tedana.workflows import tedana_workflow\n",
    "# Note: The dynamic reports, which are presented here are in a PR that hasn't quite been merged before OHBM.\n",
    "# To replicate this functional use the code in this PR:\n",
    "# https://github.com/ME-ICA/tedana/pull/457"
   ]
  },
  {
   "cell_type": "markdown",
   "metadata": {},
   "source": [
    "## Download 5 echo data"
   ]
  },
  {
   "cell_type": "code",
   "execution_count": 2,
   "metadata": {},
   "outputs": [
    {
     "name": "stdout",
     "output_type": "stream",
     "text": [
      "  % Total    % Received % Xferd  Average Speed   Time    Time     Time  Current\n",
      "                                 Dload  Upload   Total   Spent    Left  Speed\n",
      "100   459  100   459    0     0   2283      0 --:--:-- --:--:-- --:--:--  2283\n",
      "100 68.5M  100 68.5M    0     0  9931k      0  0:00:07  0:00:07 --:--:-- 11.7M\n",
      "CPU times: user 94.7 ms, sys: 45.5 ms, total: 140 ms\n",
      "Wall time: 7.48 s\n"
     ]
    }
   ],
   "source": [
    "%%time\n",
    "dset_dir5 = 'five-echo-dataset/'\n",
    "wd = os.getcwd()\n",
    "\n",
    "if not op.isdir(dset_dir5):\n",
    "    os.mkdir(dset_dir5)\n",
    "\n",
    "!curl -L -o five_echo_NIH.tar.xz https://osf.io/ea5v3/download\n",
    "!tar xf five_echo_NIH.tar.xz -C five-echo-dataset\n",
    "os.remove('five_echo_NIH.tar.xz')"
   ]
  },
  {
   "cell_type": "markdown",
   "metadata": {},
   "source": [
    "## Run workflow on 5 echo data"
   ]
  },
  {
   "cell_type": "code",
   "execution_count": 3,
   "metadata": {},
   "outputs": [
    {
     "name": "stderr",
     "output_type": "stream",
     "text": [
      "INFO:tedana.workflows.tedana:Using output directory: /Users/handwerkerd/code/tedana_community/tedana-ohbm-2020/five-echo-dataset\n",
      "INFO:tedana.workflows.tedana:Loading input data: ['five-echo-dataset/p06.SBJ01_S09_Task11_e1.sm.nii.gz', 'five-echo-dataset/p06.SBJ01_S09_Task11_e2.sm.nii.gz', 'five-echo-dataset/p06.SBJ01_S09_Task11_e3.sm.nii.gz', 'five-echo-dataset/p06.SBJ01_S09_Task11_e4.sm.nii.gz', 'five-echo-dataset/p06.SBJ01_S09_Task11_e5.sm.nii.gz']\n",
      "INFO:tedana.workflows.tedana:Computing EPI mask from first echo\n",
      "INFO:tedana.workflows.tedana:Computing T2* map\n",
      "INFO:tedana.combine:Optimally combining data with voxel-wise T2* estimates\n",
      "INFO:tedana.decomposition.pca:Computing PCA of optimally combined multi-echo data\n",
      "INFO:tedana.decomposition.ma_pca:Performing SVD on original OC data...\n",
      "INFO:tedana.decomposition.ma_pca:SVD done on original OC data\n",
      "INFO:tedana.decomposition.ma_pca:Estimating the subsampling depth for effective i.i.d samples...\n",
      "INFO:tedana.decomposition.ma_pca:Generating subsampled i.i.d. OC data...\n",
      "INFO:tedana.decomposition.ma_pca:Performing SVD on subsampled i.i.d. OC data...\n",
      "INFO:tedana.decomposition.ma_pca:SVD done on subsampled i.i.d. OC data\n",
      "INFO:tedana.decomposition.ma_pca:Effective number of i.i.d. samples 2997\n",
      "INFO:tedana.decomposition.ma_pca:Perform eigen spectrum adjustment ...\n",
      "INFO:tedana.decomposition.ma_pca:Estimating the dimension ...\n",
      "INFO:tedana.decomposition.ma_pca:Estimated components is found out to be 54\n",
      "INFO:tedana.metrics.kundu_fit:Fitting TE- and S0-dependent models to components\n",
      "INFO:tedana.decomposition.pca:Selected 54 components with mdl dimensionality detection\n",
      "INFO:tedana.decomposition.ica:ICA attempt 1 converged in 108 iterations\n",
      "INFO:tedana.workflows.tedana:Making second component selection guess from ICA results\n",
      "INFO:tedana.metrics.kundu_fit:Fitting TE- and S0-dependent models to components\n",
      "INFO:tedana.metrics.kundu_fit:Performing spatial clustering of components\n",
      "INFO:tedana.selection.tedica:Performing ICA component selection with Kundu decision tree v2.5\n",
      "INFO:numexpr.utils:NumExpr defaulting to 8 threads.\n",
      "INFO:tedana.io:Writing optimally combined time series: /Users/handwerkerd/code/tedana_community/tedana-ohbm-2020/five-echo-dataset/ts_OC.nii.gz\n",
      "INFO:tedana.io:Variance explained by ICA decomposition: 97.29%\n",
      "INFO:tedana.io:Writing high-Kappa time series: /Users/handwerkerd/code/tedana_community/tedana-ohbm-2020/five-echo-dataset/hik_ts_OC.nii.gz\n",
      "INFO:tedana.io:Writing low-Kappa time series: /Users/handwerkerd/code/tedana_community/tedana-ohbm-2020/five-echo-dataset/lowk_ts_OC.nii.gz\n",
      "INFO:tedana.io:Writing denoised time series: /Users/handwerkerd/code/tedana_community/tedana-ohbm-2020/five-echo-dataset/dn_ts_OC.nii.gz\n",
      "INFO:tedana.io:Writing full ICA coefficient feature set: /Users/handwerkerd/code/tedana_community/tedana-ohbm-2020/five-echo-dataset/betas_OC.nii.gz\n",
      "INFO:tedana.io:Writing denoised ICA coefficient feature set: /Users/handwerkerd/code/tedana_community/tedana-ohbm-2020/five-echo-dataset/betas_hik_OC.nii.gz\n",
      "INFO:tedana.io:Writing Z-normalized spatial component maps: /Users/handwerkerd/code/tedana_community/tedana-ohbm-2020/five-echo-dataset/feats_OC2.nii.gz\n",
      "INFO:tedana.workflows.tedana:Making figures folder with static component maps and timecourse plots.\n",
      "INFO:tedana.workflows.tedana:Generating dynamic report\n",
      "INFO:tedana.workflows.tedana:Workflow completed\n"
     ]
    },
    {
     "name": "stdout",
     "output_type": "stream",
     "text": [
      "CPU times: user 1min 20s, sys: 3 s, total: 1min 23s\n",
      "Wall time: 47.8 s\n"
     ]
    }
   ],
   "source": [
    "%%time\n",
    "files = sorted(glob(op.join(dset_dir5, '*.nii.gz')))\n",
    "tes = [15.4, 29.7, 44.0, 58.3, 72.6]\n",
    "tedana_workflow(files, tes, out_dir=dset_dir5, tedort=False, fixed_seed=42)"
   ]
  },
  {
   "cell_type": "markdown",
   "metadata": {},
   "source": [
    "## Open report for 5 echo data in web browser"
   ]
  },
  {
   "cell_type": "code",
   "execution_count": 4,
   "metadata": {
    "scrolled": true
   },
   "outputs": [
    {
     "name": "stdout",
     "output_type": "stream",
     "text": [
      "/Users/handwerkerd/code/tedana_community/tedana-ohbm-2020/five-echo-dataset/tedana_report.html\n"
     ]
    },
    {
     "data": {
      "text/plain": [
       "True"
      ]
     },
     "execution_count": 4,
     "metadata": {},
     "output_type": "execute_result"
    }
   ],
   "source": [
    "import webbrowser\n",
    "new = 2 # open in a new tab, if possible\n",
    "\n",
    "url = str(os.path.abspath(dset_dir5 + 'tedana_report.html'))\n",
    "print(url)\n",
    "webbrowser.open(\"file://\" + url,new=new)\n"
   ]
  },
  {
   "cell_type": "markdown",
   "metadata": {},
   "source": [
    "### Download 3 echo data"
   ]
  },
  {
   "cell_type": "code",
   "execution_count": 5,
   "metadata": {},
   "outputs": [
    {
     "name": "stdout",
     "output_type": "stream",
     "text": [
      "  % Total    % Received % Xferd  Average Speed   Time    Time     Time  Current\n",
      "                                 Dload  Upload   Total   Spent    Left  Speed\n",
      "100   459  100   459    0     0   2306      0 --:--:-- --:--:-- --:--:--  2295\n",
      "100  125M  100  125M    0     0  11.2M      0  0:00:11  0:00:11 --:--:-- 11.7M0     0  11.1M      0  0:00:11  0:00:10  0:00:01 11.8M\n",
      "CPU times: user 166 ms, sys: 58.1 ms, total: 224 ms\n",
      "Wall time: 11.3 s\n"
     ]
    }
   ],
   "source": [
    "%%time\n",
    "dset_dir3 = 'three-echo-dataset/'\n",
    "wd = os.getcwd()\n",
    "\n",
    "if not op.isdir(dset_dir3):\n",
    "    os.mkdir(dset_dir3)\n",
    "\n",
    "!curl -L -o three-echo-dataset/three_echo_Cornell_zcat.nii.gz https://osf.io/jy8ta/download"
   ]
  },
  {
   "cell_type": "markdown",
   "metadata": {},
   "source": [
    "## Run workflow on 3 echo data"
   ]
  },
  {
   "cell_type": "code",
   "execution_count": 6,
   "metadata": {},
   "outputs": [
    {
     "name": "stderr",
     "output_type": "stream",
     "text": [
      "INFO:tedana.workflows.tedana:Using output directory: /Users/handwerkerd/code/tedana_community/tedana-ohbm-2020/three-echo-dataset\n",
      "INFO:tedana.workflows.tedana:Loading input data: ['three-echo-dataset/three_echo_Cornell_zcat.nii.gz']\n",
      "INFO:tedana.workflows.tedana:Computing EPI mask from first echo\n",
      "INFO:tedana.workflows.tedana:Computing T2* map\n",
      "INFO:tedana.combine:Optimally combining data with voxel-wise T2* estimates\n",
      "INFO:tedana.decomposition.pca:Computing PCA of optimally combined multi-echo data\n",
      "INFO:tedana.decomposition.ma_pca:Performing SVD on original OC data...\n",
      "INFO:tedana.decomposition.ma_pca:SVD done on original OC data\n",
      "INFO:tedana.decomposition.ma_pca:Estimating the subsampling depth for effective i.i.d samples...\n",
      "INFO:tedana.decomposition.ma_pca:Generating subsampled i.i.d. OC data...\n",
      "INFO:tedana.decomposition.ma_pca:Performing SVD on subsampled i.i.d. OC data...\n",
      "INFO:tedana.decomposition.ma_pca:SVD done on subsampled i.i.d. OC data\n",
      "INFO:tedana.decomposition.ma_pca:Effective number of i.i.d. samples 4731\n",
      "INFO:tedana.decomposition.ma_pca:Perform eigen spectrum adjustment ...\n",
      "INFO:tedana.decomposition.ma_pca:Estimating the dimension ...\n",
      "INFO:tedana.decomposition.ma_pca:Estimated components is found out to be 90\n",
      "INFO:tedana.metrics.kundu_fit:Fitting TE- and S0-dependent models to components\n",
      "INFO:tedana.decomposition.pca:Selected 90 components with mdl dimensionality detection\n",
      "INFO:tedana.decomposition.ica:ICA attempt 1 converged in 95 iterations\n",
      "INFO:tedana.workflows.tedana:Making second component selection guess from ICA results\n",
      "INFO:tedana.metrics.kundu_fit:Fitting TE- and S0-dependent models to components\n",
      "INFO:tedana.metrics.kundu_fit:Performing spatial clustering of components\n",
      "INFO:tedana.selection.tedica:Performing ICA component selection with Kundu decision tree v2.5\n",
      "INFO:tedana.io:Writing optimally combined time series: /Users/handwerkerd/code/tedana_community/tedana-ohbm-2020/three-echo-dataset/ts_OC.nii.gz\n",
      "INFO:tedana.io:Variance explained by ICA decomposition: 97.40%\n",
      "INFO:tedana.io:Writing high-Kappa time series: /Users/handwerkerd/code/tedana_community/tedana-ohbm-2020/three-echo-dataset/hik_ts_OC.nii.gz\n",
      "INFO:tedana.io:Writing low-Kappa time series: /Users/handwerkerd/code/tedana_community/tedana-ohbm-2020/three-echo-dataset/lowk_ts_OC.nii.gz\n",
      "INFO:tedana.io:Writing denoised time series: /Users/handwerkerd/code/tedana_community/tedana-ohbm-2020/three-echo-dataset/dn_ts_OC.nii.gz\n",
      "INFO:tedana.io:Writing full ICA coefficient feature set: /Users/handwerkerd/code/tedana_community/tedana-ohbm-2020/three-echo-dataset/betas_OC.nii.gz\n",
      "INFO:tedana.io:Writing denoised ICA coefficient feature set: /Users/handwerkerd/code/tedana_community/tedana-ohbm-2020/three-echo-dataset/betas_hik_OC.nii.gz\n",
      "INFO:tedana.io:Writing Z-normalized spatial component maps: /Users/handwerkerd/code/tedana_community/tedana-ohbm-2020/three-echo-dataset/feats_OC2.nii.gz\n",
      "INFO:tedana.workflows.tedana:Making figures folder with static component maps and timecourse plots.\n",
      "INFO:tedana.workflows.tedana:Generating dynamic report\n",
      "INFO:tedana.workflows.tedana:Workflow completed\n"
     ]
    },
    {
     "name": "stdout",
     "output_type": "stream",
     "text": [
      "CPU times: user 2min 17s, sys: 5.56 s, total: 2min 23s\n",
      "Wall time: 1min 28s\n"
     ]
    }
   ],
   "source": [
    "%%time\n",
    "files = sorted(glob(op.join(dset_dir3, '*.nii.gz')))\n",
    "tes = [14.5, 38.5, 62.5]\n",
    "tedana_workflow(files, tes, out_dir=dset_dir3, tedort=False, fixed_seed=42)"
   ]
  },
  {
   "cell_type": "markdown",
   "metadata": {},
   "source": [
    "## Open report for 3 echo data in web browser"
   ]
  },
  {
   "cell_type": "code",
   "execution_count": 7,
   "metadata": {
    "scrolled": true
   },
   "outputs": [
    {
     "name": "stdout",
     "output_type": "stream",
     "text": [
      "/Users/handwerkerd/code/tedana_community/tedana-ohbm-2020/three-echo-dataset/tedana_report.html\n"
     ]
    },
    {
     "data": {
      "text/plain": [
       "True"
      ]
     },
     "execution_count": 7,
     "metadata": {},
     "output_type": "execute_result"
    }
   ],
   "source": [
    "import webbrowser\n",
    "new = 2 # open in a new tab, if possible\n",
    "\n",
    "url = str(os.path.abspath(dset_dir3 + 'tedana_report.html'))\n",
    "print(url)\n",
    "webbrowser.open(\"file://\" + url,new=new)\n"
   ]
  },
  {
   "cell_type": "code",
   "execution_count": null,
   "metadata": {},
   "outputs": [],
   "source": []
  }
 ],
 "metadata": {
  "kernelspec": {
   "display_name": "Python 3",
   "language": "python",
   "name": "python3"
  },
  "language_info": {
   "codemirror_mode": {
    "name": "ipython",
    "version": 3
   },
   "file_extension": ".py",
   "mimetype": "text/x-python",
   "name": "python",
   "nbconvert_exporter": "python",
   "pygments_lexer": "ipython3",
   "version": "3.7.7"
  }
 },
 "nbformat": 4,
 "nbformat_minor": 2
}
